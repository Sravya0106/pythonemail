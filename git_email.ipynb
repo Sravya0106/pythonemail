{
 "cells": [
  {
   "cell_type": "code",
   "execution_count": 3,
   "id": "c5857601",
   "metadata": {},
   "outputs": [
    {
     "data": {
      "text/plain": [
       "(221,\n",
       " b'2.0.0 closing connection t81-20020a635f54000000b0036507277ae6sm10426599pgb.89 - gsmtp')"
      ]
     },
     "execution_count": 3,
     "metadata": {},
     "output_type": "execute_result"
    }
   ],
   "source": [
    "import smtplib\n",
    "from email.message import EmailMessage\n",
    "\n",
    "fromaddr = 'raj.exf@gmail.com'\n",
    "toaddrs = \"chiranjeevi.tmt@gmail.com\"\n",
    "SMTPServer = 'smtp.gmail.com'\n",
    "port =465 #587\n",
    "login = \"raj.exf@gmail.com\"\n",
    "password = \"raj@97reddy\"\n",
    "\n",
    "\n",
    "\n",
    "msg = EmailMessage()\n",
    "msgtxt = \"Sindhu Mapakshi\"+\"\\n\\n\"+\"This is a test.\"\n",
    "msg.set_content(msgtxt)\n",
    "msg['Subject'] = \"Test message\"\n",
    "msg['From'] = fromaddr\n",
    "msg['To'] = toaddrs\n",
    "\n",
    "\n",
    "\n",
    "server = smtplib.SMTP_SSL(SMTPServer, port) #use smtplib.SMTP() if port is 587\n",
    "#server.starttls()\n",
    "server.login(login, password)\n",
    "server.send_message(msg)\n",
    "server.quit()"
   ]
  }
 ],
 "metadata": {
  "kernelspec": {
   "display_name": "Python 3 (ipykernel)",
   "language": "python",
   "name": "python3"
  },
  "language_info": {
   "codemirror_mode": {
    "name": "ipython",
    "version": 3
   },
   "file_extension": ".py",
   "mimetype": "text/x-python",
   "name": "python",
   "nbconvert_exporter": "python",
   "pygments_lexer": "ipython3",
   "version": "3.9.7"
  }
 },
 "nbformat": 4,
 "nbformat_minor": 5
}
